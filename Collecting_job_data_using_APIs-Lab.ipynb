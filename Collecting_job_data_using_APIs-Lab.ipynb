{
 "cells": [
  {
   "cell_type": "markdown",
   "metadata": {},
   "source": [
    "<p style=\"text-align:center\">\n",
    "    <a href=\"https://skills.network\" target=\"_blank\">\n",
    "    <img src=\"https://cf-courses-data.s3.us.cloud-object-storage.appdomain.cloud/assets/logos/SN_web_lightmode.png\" width=\"200\" alt=\"Skills Network Logo\">\n",
    "    </a>\n",
    "</p>\n"
   ]
  },
  {
   "cell_type": "markdown",
   "metadata": {},
   "source": [
    "# **Collecting Job Data Using APIs**\n"
   ]
  },
  {
   "cell_type": "markdown",
   "metadata": {},
   "source": [
    "Estimated time needed: **30** minutes\n"
   ]
  },
  {
   "cell_type": "markdown",
   "metadata": {},
   "source": [
    "## Objectives\n"
   ]
  },
  {
   "cell_type": "markdown",
   "metadata": {},
   "source": [
    "After completing this lab, you will be able to:\n"
   ]
  },
  {
   "cell_type": "markdown",
   "metadata": {},
   "source": [
    "*   Collect job data using Jobs API\n",
    "*   Store the collected data into an excel spreadsheet.\n"
   ]
  },
  {
   "cell_type": "markdown",
   "metadata": {},
   "source": [
    "><strong>Note: Before starting with the assignment make sure to read all the instructions and then move ahead with the coding part.</strong>\n"
   ]
  },
  {
   "cell_type": "markdown",
   "metadata": {},
   "source": [
    "#### Instructions\n"
   ]
  },
  {
   "cell_type": "markdown",
   "metadata": {},
   "source": [
    "To run the actual lab, firstly you need to click on the [Jobs_API](https://cf-courses-data.s3.us.cloud-object-storage.appdomain.cloud/IBM-DA0321EN-SkillsNetwork/labs/module%201/Accessing%20Data%20Using%20APIs/Jobs_API.ipynb) notebook link. The file contains flask code which is required to run the Jobs API data.\n",
    "\n",
    "Now, to run the code in the file that opens up follow the below steps.\n",
    "\n",
    "Step1: Download the file. \n",
    "\n",
    "Step2: Upload the file into your current Jupyter environment using the upload button in your Jupyter interface. Ensure that the file is in the same folder as your working .ipynb file.\n",
    "\n",
    "Step 2: If working in a local Jupyter environment, use the \"Upload\" button in your Jupyter interface to upload the Jobs_API notebook into the same folder as your current .ipynb file.\n",
    "\n",
    "<img src=\"https://cf-courses-data.s3.us.cloud-object-storage.appdomain.cloud/IBM-DA0321EN-SkillsNetwork/labs/module%201/Accessing%20Data%20Using%20APIs/Upload.PNG\">\n",
    "\n",
    "Step3:  Open the Jobs_API notebook, and run all the cells to start the Flask application. Once the server is running, you can access the API from the URL provided in the notebook.\n",
    "\n",
    "If you want to learn more about flask, which is optional, you can click on this link [here](https://cf-courses-data.s3.us.cloud-object-storage.appdomain.cloud/IBM-DA0321EN-SkillsNetwork/labs/module%201/Accessing%20Data%20Using%20APIs/FLASK_API.md.html).\n",
    "\n",
    "Once you run the flask code, you can start with your assignment.\n"
   ]
  },
  {
   "cell_type": "markdown",
   "metadata": {},
   "source": [
    "## Dataset Used in this Assignment\n",
    "\n",
    "The dataset used in this lab comes from the following source: https://www.kaggle.com/promptcloud/jobs-on-naukricom under the under a **Public Domain license**.\n",
    "\n",
    "> Note: We are using a modified subset of that dataset for the lab, so to follow the lab instructions successfully please use the dataset provided with the lab, rather than the dataset from the original source.\n",
    "\n",
    "The original dataset is a csv. We have converted the csv to json as per the requirement of the lab.\n"
   ]
  },
  {
   "cell_type": "markdown",
   "metadata": {},
   "source": [
    "## Warm-Up Exercise\n"
   ]
  },
  {
   "cell_type": "markdown",
   "metadata": {},
   "source": [
    "Before you attempt the actual lab, here is a fully solved warmup exercise that will help you to learn how to access an API.\n"
   ]
  },
  {
   "cell_type": "markdown",
   "metadata": {},
   "source": [
    "Using an API, let us find out who currently are on the International Space Station (ISS).<br> The API at [http://api.open-notify.org/astros.json](http://api.open-notify.org/astros.json?utm_medium=Exinfluencer&utm_source=Exinfluencer&utm_content=000026UJ&utm_term=10006555&utm_id=NA-SkillsNetwork-Channel-SkillsNetworkCoursesIBMDA0321ENSkillsNetwork21426264-2021-01-01&cm_mmc=Email_Newsletter-_-Developer_Ed%2BTech-_-WW_WW-_-SkillsNetwork-Courses-IBM-DA0321EN-SkillsNetwork-21426264&cm_mmca1=000026UJ&cm_mmca2=10006555&cm_mmca3=M12345678&cvosrc=email.Newsletter.M12345678&cvo_campaign=000026UJ) gives us the information of astronauts currently on ISS in json format.<br>\n",
    "You can read more about this API at [http://open-notify.org/Open-Notify-API/People-In-Space/](http://open-notify.org/Open-Notify-API/People-In-Space?utm_medium=Exinfluencer&utm_source=Exinfluencer&utm_content=000026UJ&utm_term=10006555&utm_id=NA-SkillsNetwork-Channel-SkillsNetworkCoursesIBMDA0321ENSkillsNetwork21426264-2021-01-01&cm_mmc=Email_Newsletter-_-Developer_Ed%2BTech-_-WW_WW-_-SkillsNetwork-Courses-IBM-DA0321EN-SkillsNetwork-21426264&cm_mmca1=000026UJ&cm_mmca2=10006555&cm_mmca3=M12345678&cvosrc=email.Newsletter.M12345678&cvo_campaign=000026UJ)\n"
   ]
  },
  {
   "cell_type": "code",
   "execution_count": 1,
   "metadata": {
    "tags": []
   },
   "outputs": [],
   "source": [
    "import requests # you need this module to make an API call\n",
    "import pandas as pd"
   ]
  },
  {
   "cell_type": "code",
   "execution_count": 2,
   "metadata": {
    "tags": []
   },
   "outputs": [],
   "source": [
    "api_url = \"http://api.open-notify.org/astros.json\" # this url gives use the astronaut data"
   ]
  },
  {
   "cell_type": "code",
   "execution_count": 3,
   "metadata": {
    "tags": []
   },
   "outputs": [],
   "source": [
    "response = requests.get(api_url) # Call the API using the get method and store the\n",
    "                                # output of the API call in a variable called response."
   ]
  },
  {
   "cell_type": "code",
   "execution_count": 4,
   "metadata": {
    "tags": []
   },
   "outputs": [],
   "source": [
    "if response.ok:             # if all is well() no errors, no network timeouts)\n",
    "    data = response.json()  # store the result in json format in a variable called data\n",
    "                            # the variable data is of type dictionary."
   ]
  },
  {
   "cell_type": "code",
   "execution_count": 5,
   "metadata": {
    "tags": []
   },
   "outputs": [
    {
     "name": "stdout",
     "output_type": "stream",
     "text": [
      "{'people': [{'craft': 'ISS', 'name': 'Oleg Kononenko'}, {'craft': 'ISS', 'name': 'Nikolai Chub'}, {'craft': 'ISS', 'name': 'Tracy Caldwell Dyson'}, {'craft': 'ISS', 'name': 'Matthew Dominick'}, {'craft': 'ISS', 'name': 'Michael Barratt'}, {'craft': 'ISS', 'name': 'Jeanette Epps'}, {'craft': 'ISS', 'name': 'Alexander Grebenkin'}, {'craft': 'ISS', 'name': 'Butch Wilmore'}, {'craft': 'ISS', 'name': 'Sunita Williams'}, {'craft': 'Tiangong', 'name': 'Li Guangsu'}, {'craft': 'Tiangong', 'name': 'Li Cong'}, {'craft': 'Tiangong', 'name': 'Ye Guangfu'}], 'number': 12, 'message': 'success'}\n"
     ]
    }
   ],
   "source": [
    "print(data)   # print the data just to check the output or for debugging"
   ]
  },
  {
   "cell_type": "markdown",
   "metadata": {},
   "source": [
    "Print the number of astronauts currently on ISS.\n"
   ]
  },
  {
   "cell_type": "code",
   "execution_count": 6,
   "metadata": {
    "tags": []
   },
   "outputs": [
    {
     "name": "stdout",
     "output_type": "stream",
     "text": [
      "12\n"
     ]
    }
   ],
   "source": [
    "print(data.get('number'))"
   ]
  },
  {
   "cell_type": "markdown",
   "metadata": {},
   "source": [
    "Print the names of the astronauts currently on ISS.\n"
   ]
  },
  {
   "cell_type": "code",
   "execution_count": 7,
   "metadata": {
    "tags": []
   },
   "outputs": [
    {
     "name": "stdout",
     "output_type": "stream",
     "text": [
      "There are 12 astronauts on ISS\n",
      "And their names are :\n",
      "Oleg Kononenko\n",
      "Nikolai Chub\n",
      "Tracy Caldwell Dyson\n",
      "Matthew Dominick\n",
      "Michael Barratt\n",
      "Jeanette Epps\n",
      "Alexander Grebenkin\n",
      "Butch Wilmore\n",
      "Sunita Williams\n",
      "Li Guangsu\n",
      "Li Cong\n",
      "Ye Guangfu\n"
     ]
    }
   ],
   "source": [
    "astronauts = data.get('people')\n",
    "print(\"There are {} astronauts on ISS\".format(len(astronauts)))\n",
    "print(\"And their names are :\")\n",
    "for astronaut in astronauts:\n",
    "    print(astronaut.get('name'))"
   ]
  },
  {
   "cell_type": "markdown",
   "metadata": {},
   "source": [
    "Hope the warmup was helpful. Good luck with your next lab!\n"
   ]
  },
  {
   "cell_type": "markdown",
   "metadata": {},
   "source": [
    "## Lab: Collect Jobs Data using Jobs API\n"
   ]
  },
  {
   "cell_type": "markdown",
   "metadata": {},
   "source": [
    "### Objective: Determine the number of jobs currently open for various technologies  and for various locations\n"
   ]
  },
  {
   "cell_type": "markdown",
   "metadata": {},
   "source": [
    "Collect the number of job postings for the following locations using the API:\n",
    "\n",
    "* Los Angeles\n",
    "* New York\n",
    "* San Francisco\n",
    "* Washington DC\n",
    "* Seattle\n",
    "* Austin\n",
    "* Detroit\n"
   ]
  },
  {
   "cell_type": "code",
   "execution_count": 8,
   "metadata": {
    "tags": []
   },
   "outputs": [],
   "source": [
    "#Import required libraries\n",
    "import pandas as pd\n",
    "import json\n"
   ]
  },
  {
   "cell_type": "code",
   "execution_count": 9,
   "metadata": {
    "tags": []
   },
   "outputs": [
    {
     "name": "stdout",
     "output_type": "stream",
     "text": [
      "[{'Id': 0, 'Job Title': 'Digital Media Planner', 'Job Experience Required': '5 - 10 yrs', 'Key Skills': 'Media Planning| Digital Media', 'Role Category': 'Advertising', 'Location': 'Los Angeles', 'Functional Area': 'Marketing , Advertising , MR , PR , Media Planning', 'Industry': 'Advertising, PR, MR, Event Management', 'Role': 'Media Planning Executive/Manager'}, {'Id': 1, 'Job Title': 'Online Bidding Executive', 'Job Experience Required': '2 - 5 yrs', 'Key Skills': 'pre sales| closing| software knowledge| clients| requirements| negotiating| client| online bidding| good communication| technology', 'Role Category': 'Retail Sales', 'Location': 'New York', 'Functional Area': 'Sales , Retail , Business Development', 'Industry': 'IT-Software, Software Services', 'Role': 'Sales Executive/Officer'}, {'Id': 2, 'Job Title': 'Trainee Research/ Research Executive- Hi- Tech Operations', 'Job Experience Required': '0 - 1 yrs', 'Key Skills': 'Computer science| Fabrication| Quality check| Intellectual property| Electronics| Support services| Research| Management| Human resource management| Research Executive', 'Role Category': 'R&D', 'Location': 'San Francisco', 'Functional Area': 'Engineering Design , R&D', 'Industry': 'Recruitment, Staffing', 'Role': 'R&D Executive'}, {'Id': 3, 'Job Title': 'Technical Support', 'Job Experience Required': '0 - 5 yrs', 'Key Skills': 'Technical Support', 'Role Category': 'Admin/Maintenance/Security/Datawarehousing', 'Location': 'Washington DC', 'Functional Area': 'IT Software - Application Programming , Maintenance', 'Industry': 'IT-Software, Software Services', 'Role': 'Technical Support Engineer'}, {'Id': 4, 'Job Title': 'Software Test Engineer -hyderabad', 'Job Experience Required': '2 - 5 yrs', 'Key Skills': 'manual testing| test engineering| test cases| web testing| web technologies', 'Role Category': 'Programming & Design', 'Location': 'Boston', 'Functional Area': 'IT Software - QA & Testing', 'Industry': 'IT-Software, Software Services', 'Role': 'Testing Engineer'}]\n"
     ]
    }
   ],
   "source": [
    "api_url=\"https://cf-courses-data.s3.us.cloud-object-storage.appdomain.cloud/IBM-DA0321EN-SkillsNetwork/labs/module%201/Accessing%20Data%20Using%20APIs/jobs.json\"\n",
    "\n",
    "response = requests.get(api_url)\n",
    "if response.ok:\n",
    "    data = response.json()\n",
    "\n",
    "print(data[0:5])"
   ]
  },
  {
   "cell_type": "markdown",
   "metadata": {},
   "source": [
    "https://cf-courses-data.s3.us.cloud-object-storage.appdomain.cloud/IBM-DA0321EN-SkillsNetwork/labs/module%201/Accessing%20Data%20Using%20APIs/jobs.json#### Write a function to get the number of jobs for the Python technology.<br>\n",
    "> Note: While using the lab you need to pass the **payload** information for the **params** attribute in the form of **key** **value** pairs.\n",
    "  Refer the ungraded **rest api lab** in the course **Python for Data Science, AI & Development**  <a href=\"https://www.coursera.org/learn/python-for-applied-data-science-ai/ungradedLti/P6sW8/hands-on-lab-access-rest-apis-request-http?utm_medium=Exinfluencer&utm_source=Exinfluencer&utm_content=000026UJ&utm_term=10006555&utm_id=NA-SkillsNetwork-Channel-SkillsNetworkCoursesIBMDA0321ENSkillsNetwork928-2022-01-01\">link</a>\n",
    "  \n",
    " ##### The keys in the json are \n",
    " * Job Title\n",
    " \n",
    " * Job Experience Required\n",
    " \n",
    " * Key Skills\n",
    " \n",
    " * Role Category\n",
    " \n",
    " * Location\n",
    " \n",
    " * Functional Area\n",
    " \n",
    " * Industry\n",
    " \n",
    " * Role \n",
    " \n",
    "You can also view  the json file contents  from the following <a href = \"https://cf-courses-data.s3.us.cloud-object-storage.appdomain.cloud/IBM-DA0321EN-SkillsNetwork/labs/module%201/Accessing%20Data%20Using%20APIs/jobs.json\">json</a> URL.\n",
    "\n"
   ]
  },
  {
   "cell_type": "code",
   "execution_count": 10,
   "metadata": {
    "tags": []
   },
   "outputs": [],
   "source": [
    "api_url=\"https://cf-courses-data.s3.us.cloud-object-storage.appdomain.cloud/IBM-DA0321EN-SkillsNetwork/labs/module%201/Accessing%20Data%20Using%20APIs/jobs.json\"\n",
    "\n",
    "def get_number_of_jobs_T(technology):\n",
    "    response = requests.get(api_url) #getting all the data from the API\n",
    "    data = response.json()  #assigning the data as a json object to a variable 'data'\n",
    "    number_of_jobs = 0  #creating a counter\n",
    "    for job in data:   #looping through all the dict elements in the json object list\n",
    "        skills = job.get('Key Skills', '')  #getting all the values of the dict key 'Key Skills', and assigning them to the variable skills. ' ' Returns empty string in case the key 'Key Skills' doesn't exist, so my loop will continue running \n",
    "        if technology in skills:  #condition: if the skill (the function's input) im looking for is in 'Key Skills'\n",
    "            number_of_jobs += 1   #then +1 job to the coounter\n",
    "\n",
    "    return technology, number_of_jobs   #returning the skill i've inputed, and the counter of how many jobs require this skill."
   ]
  },
  {
   "cell_type": "markdown",
   "metadata": {},
   "source": [
    "Calling the function for Python and checking if it works.\n"
   ]
  },
  {
   "cell_type": "code",
   "execution_count": 11,
   "metadata": {
    "tags": []
   },
   "outputs": [
    {
     "data": {
      "text/plain": [
       "('Python', 1173)"
      ]
     },
     "execution_count": 11,
     "metadata": {},
     "output_type": "execute_result"
    }
   ],
   "source": [
    "get_number_of_jobs_T(\"Python\")  #ruuning the function with the skill 'Python'"
   ]
  },
  {
   "cell_type": "markdown",
   "metadata": {},
   "source": [
    "#### Write a function to find number of jobs in US for a location of your choice\n"
   ]
  },
  {
   "cell_type": "code",
   "execution_count": 12,
   "metadata": {
    "tags": []
   },
   "outputs": [],
   "source": [
    " def get_number_of_jobs_L(location):\n",
    "    number_of_jobs =0   #creating a counter in the function, so the variable is only saved within the memory of the finction \n",
    "    for job in data:  #looping through each element( job) in the json object list of jobs\n",
    "        locations = job.get('Location', '')  #getting all the 'Locations' values from each dict im looping trough. and assigning them to the variable 'locations'\n",
    "        if location in locations: #condotion: if the location (the function's input) matches the value pair of the specific job dict i've looped trough, \n",
    "            number_of_jobs +=1   #then + 1 to the job counter for this location.\n",
    "\n",
    "    return location,number_of_jobs #returns the Location i've inputed and the counter of how many jobs match this location"
   ]
  },
  {
   "cell_type": "markdown",
   "metadata": {},
   "source": [
    "Call the function for Los Angeles and check if it is working.\n"
   ]
  },
  {
   "cell_type": "code",
   "execution_count": 13,
   "metadata": {
    "tags": []
   },
   "outputs": [
    {
     "data": {
      "text/plain": [
       "('Los Angeles', 640)"
      ]
     },
     "execution_count": 13,
     "metadata": {},
     "output_type": "execute_result"
    }
   ],
   "source": [
    "get_number_of_jobs_L('Los Angeles') #running the function for the location 'Los Angeles'"
   ]
  },
  {
   "cell_type": "markdown",
   "metadata": {},
   "source": [
    "### Store the results in an excel file\n"
   ]
  },
  {
   "cell_type": "markdown",
   "metadata": {},
   "source": [
    "Call the API for all the given technologies above and write the results in an excel spreadsheet.\n"
   ]
  },
  {
   "cell_type": "markdown",
   "metadata": {},
   "source": [
    "If you do not know how create excel file using python, double click here for **hints**.\n",
    "\n",
    "<!--\n",
    "\n",
    "from openpyxl import Workbook        # import Workbook class from module openpyxl\n",
    "wb=Workbook()                        # create a workbook object\n",
    "ws=wb.active                         # use the active worksheet\n",
    "ws.append(['Country','Continent'])   # add a row with two columns 'Country' and 'Continent'\n",
    "ws.append(['Eygpt','Africa'])        # add a row with two columns 'Egypt' and 'Africa'\n",
    "ws.append(['India','Asia'])          # add another row\n",
    "ws.append(['France','Europe'])       # add another row\n",
    "wb.save(\"countries.xlsx\")            # save the workbook into a file called countries.xlsx\n",
    "\n",
    "\n",
    "-->\n"
   ]
  },
  {
   "cell_type": "markdown",
   "metadata": {},
   "source": [
    "Create a python list of all technologies for which you need to find the number of jobs postings.\n"
   ]
  },
  {
   "cell_type": "code",
   "execution_count": 14,
   "metadata": {
    "tags": []
   },
   "outputs": [],
   "source": [
    "def get_list_of_technologies():          #defining a function, no arg as im defining the data in using within the function\n",
    "    response = requests.get(api_url)     #getting the data from the API using the get method of the requests module\n",
    "    data = response.json()               #assining the data as a json object to the 'data' variable \n",
    "    unique_skills = set()                #creating an empty python set, so there won;t be duplicates.\n",
    "    for job in data:                     #looping trough all the job dicts in my json object, which is a list of dicts, each of them is a job listing of key:value pairs.\n",
    "        skills = job.get('Key Skills', '') #assigning each skill im getting from each job listing dict to the skills variable, at the moment the skills are saved as str elements with several skills for each job listing.\n",
    "        for skill in skills.split('|'):    #after I got all the skills from all the job dicts, im looping through all the skills and splitting them by their delimiter( in this case '|'), so that each skill will be its own element.\n",
    "            normalized_skill = skill.strip().lower() #normalizing the skills by stripping off spaces, and converting everything to lower case. to prevent duplicates as python is a case sensitive prog lang.\n",
    "            unique_skills.add(normalized_skill)      #adding all normalized skills to my set 'unique_skills' to get a list of unique skills. \n",
    "    return list(unique_skills)         #converting the set into a list as the task requiers, and because lists are mutable.\n",
    "        \n",
    "    "
   ]
  },
  {
   "cell_type": "code",
   "execution_count": 21,
   "metadata": {
    "tags": []
   },
   "outputs": [
    {
     "name": "stdout",
     "output_type": "stream",
     "text": [
      "['', 'denial management', 'mobile', 'conflict management']\n"
     ]
    }
   ],
   "source": [
    "unique_skills_list = get_list_of_technologies()  #ruuning the function and assigning the list to a variable for easy access.\n",
    "print(unique_skills_list[:4]) #printing the first 5 elements of my list to check the everything ran properly."
   ]
  },
  {
   "cell_type": "code",
   "execution_count": 22,
   "metadata": {
    "tags": []
   },
   "outputs": [
    {
     "name": "stdout",
     "output_type": "stream",
     "text": [
      "['denial management', 'mobile', 'conflict management', 'seo manager']\n"
     ]
    }
   ],
   "source": [
    "#removing the first element as it is an empty string\n",
    "unique_skills_list = unique_skills_list[1:] \n",
    "print(unique_skills_list[:4]) #checking my list"
   ]
  },
  {
   "cell_type": "code",
   "execution_count": 23,
   "metadata": {
    "tags": []
   },
   "outputs": [
    {
     "data": {
      "text/html": [
       "<div>\n",
       "<style scoped>\n",
       "    .dataframe tbody tr th:only-of-type {\n",
       "        vertical-align: middle;\n",
       "    }\n",
       "\n",
       "    .dataframe tbody tr th {\n",
       "        vertical-align: top;\n",
       "    }\n",
       "\n",
       "    .dataframe thead th {\n",
       "        text-align: right;\n",
       "    }\n",
       "</style>\n",
       "<table border=\"1\" class=\"dataframe\">\n",
       "  <thead>\n",
       "    <tr style=\"text-align: right;\">\n",
       "      <th></th>\n",
       "      <th>Key Skills</th>\n",
       "    </tr>\n",
       "  </thead>\n",
       "  <tbody>\n",
       "    <tr>\n",
       "      <th>0</th>\n",
       "      <td>denial management</td>\n",
       "    </tr>\n",
       "    <tr>\n",
       "      <th>1</th>\n",
       "      <td>mobile</td>\n",
       "    </tr>\n",
       "    <tr>\n",
       "      <th>2</th>\n",
       "      <td>conflict management</td>\n",
       "    </tr>\n",
       "    <tr>\n",
       "      <th>3</th>\n",
       "      <td>seo manager</td>\n",
       "    </tr>\n",
       "    <tr>\n",
       "      <th>4</th>\n",
       "      <td>quality processes</td>\n",
       "    </tr>\n",
       "  </tbody>\n",
       "</table>\n",
       "</div>"
      ],
      "text/plain": [
       "            Key Skills\n",
       "0    denial management\n",
       "1               mobile\n",
       "2  conflict management\n",
       "3          seo manager\n",
       "4    quality processes"
      ]
     },
     "execution_count": 23,
     "metadata": {},
     "output_type": "execute_result"
    }
   ],
   "source": [
    "#Not necessary for this lab, but very useful in most real workd usecases. \n",
    "df = pd.DataFrame(unique_skills_list, columns=['Key Skills']) #creating a df of 1 column for easy data manipulation with Pandas.\n",
    "df.head() #viewing my df"
   ]
  },
  {
   "cell_type": "markdown",
   "metadata": {},
   "source": [
    "Import libraries required to create excel spreadsheet\n"
   ]
  },
  {
   "cell_type": "code",
   "execution_count": 25,
   "metadata": {
    "tags": []
   },
   "outputs": [
    {
     "name": "stdout",
     "output_type": "stream",
     "text": [
      "Requirement already satisfied: openpyxl in /home/jupyterlab/conda/envs/python/lib/python3.7/site-packages (3.1.3)\n",
      "Requirement already satisfied: et-xmlfile in /home/jupyterlab/conda/envs/python/lib/python3.7/site-packages (from openpyxl) (1.1.0)\n"
     ]
    }
   ],
   "source": [
    "# your code goes here\n",
    "!pip install openpyxl  #instaliing the openpyxl library\n",
    "\n",
    "from openpyxl import Workbook  #importing necessary module \n"
   ]
  },
  {
   "cell_type": "markdown",
   "metadata": {},
   "source": [
    "Create a workbook and select the active worksheet\n"
   ]
  },
  {
   "cell_type": "code",
   "execution_count": 26,
   "metadata": {
    "tags": []
   },
   "outputs": [],
   "source": [
    "# creating and assigning workbook, and the active worksheet to variables \n",
    "wb = Workbook()\n",
    "sheet = wb.active"
   ]
  },
  {
   "cell_type": "markdown",
   "metadata": {},
   "source": [
    "Find the number of jobs postings for each of the technology in the above list.\n",
    "Write the technology name and the number of jobs postings into the excel spreadsheet.\n"
   ]
  },
  {
   "cell_type": "code",
   "execution_count": 27,
   "metadata": {
    "tags": []
   },
   "outputs": [
    {
     "name": "stdout",
     "output_type": "stream",
     "text": [
      "[('media planning', 36), ('digital media', 79), ('pre sales', 24), ('closing', 30), ('software knowledge', 1), ('clients', 14), ('requirements', 8), ('negotiating', 3), ('client', 20), ('online bidding', 18)]\n"
     ]
    }
   ],
   "source": [
    "jobs_per_skill = {} #creating a dict of skills:num of job posting for the skill\n",
    "\n",
    "for job in data:  #looping trough all jobs in my data\n",
    "    skills = job.get('Key Skills', '')  #getting all different skills from my data\n",
    "    for skill in skills.split('|'):  #looping trough all the skills I've got from my data and spliting them by their dilimiter (in this case '|'), so that'll have each skill as a separate element\n",
    "        normalized_skill = skill.strip().lower() #normalizing all the skills so no duplicates will skew my findings. \n",
    "        if normalized_skill:   # skipping empty strings\n",
    "            if normalized_skill in jobs_per_skill: #if the skill is in the dict already, I increment its count\n",
    "                jobs_per_skill[normalized_skill] += 1\n",
    "            else: #if the skill is not in the dict yet, \n",
    "                jobs_per_skill[normalized_skill] = 1  #I add it to the dict and set its count to 1, as its the first time it appears in the list of all skills. \n",
    "\n",
    "print(list(jobs_per_skill.items())[:10])  #viewing the first 10 pairs of my dict, by converting to a list so I can select only the first 10 elements\n"
   ]
  },
  {
   "cell_type": "code",
   "execution_count": 35,
   "metadata": {
    "tags": []
   },
   "outputs": [
    {
     "name": "stdout",
     "output_type": "stream",
     "text": [
      "[('C#', 305), ('Java', 751), ('C++', 296), ('Python', 1165), ('C', 626), ('JavaScript', 353), ('Oracle', 537), ('SQL Server', 186), ('Scala', 9), ('MongoDB', 174), ('PostgreSQL', 10)]\n"
     ]
    }
   ],
   "source": [
    "# List of given technologies\n",
    "given_tech = ['C', 'C#', 'C++', 'Java', 'JavaScript', 'Python', 'Scala', \n",
    "              'Oracle', 'SQL Server', 'MySQL Server', 'PostgreSQL', 'MongoDB']\n",
    "\n",
    "# Initialize dictionary to store counts\n",
    "given_tech_dict = {}\n",
    "\n",
    "# Loop through each job in your data\n",
    "for job in data:\n",
    "    skills = job.get('Key Skills', '')\n",
    "    for skill in skills.split('|'):           # Split the skills by '|'\n",
    "        norm_skill = skill.strip()            # Remove spaces from skill\n",
    "        if norm_skill in given_tech:          # Only count if skill is in given_tech list\n",
    "            # Increment count, initialize to 0 if not already in the dict\n",
    "            given_tech_dict[norm_skill] = given_tech_dict.get(norm_skill, 0) + 1\n",
    "\n",
    "# Print the results\n",
    "print(list(given_tech_dict.items()))\n",
    "\n"
   ]
  },
  {
   "cell_type": "markdown",
   "metadata": {},
   "source": [
    "Save into an excel spreadsheet named **job-postings.xlsx**.\n"
   ]
  },
  {
   "cell_type": "code",
   "execution_count": 29,
   "metadata": {
    "tags": []
   },
   "outputs": [],
   "source": [
    "from openpyxl import Workbook #importing necessry library\n",
    "\n",
    "wb = Workbook()  #creating a Workbook() object and assigning it to a variable \n",
    "ws = wb.active   #assignning the active worksheet in our workbook to a variable\n",
    "ws.title = \"Job Skills\" #giving a title to the active wotksheet\n",
    "\n",
    "# assigning the column names using the .append() meathon \n",
    "ws.append(['Skill', 'Job Count'])\n",
    "\n",
    "# Looping through each key, value pair in my dict and writing the dictionary contents into the worksheet using the .append() meathod \n",
    "for skill, count in jobs_per_skill.items():\n",
    "    ws.append([skill, count])\n",
    "\n",
    "# save to file\n",
    "wb.save(\"jobs_per_skill.xlsx\")\n"
   ]
  },
  {
   "cell_type": "markdown",
   "metadata": {},
   "source": [
    "#### In the similar way, you can try for below given technologies and results  can be stored in an excel sheet.\n"
   ]
  },
  {
   "cell_type": "markdown",
   "metadata": {},
   "source": [
    "Collect the number of job postings for the following languages using the API:\n",
    "\n",
    "*   C\n",
    "*   C#\n",
    "*   C++\n",
    "*   Java\n",
    "*   JavaScript\n",
    "*   Python\n",
    "*   Scala\n",
    "*   Oracle\n",
    "*   SQL Server\n",
    "*   MySQL Server\n",
    "*   PostgreSQL\n",
    "*   MongoDB\n"
   ]
  },
  {
   "cell_type": "code",
   "execution_count": 37,
   "metadata": {
    "tags": []
   },
   "outputs": [
    {
     "name": "stdout",
     "output_type": "stream",
     "text": [
      "[('C#', 305), ('Java', 751), ('C++', 296), ('Python', 1165), ('C', 626), ('JavaScript', 353), ('Oracle', 537), ('SQL Server', 186), ('Scala', 9), ('MongoDB', 174), ('PostgreSQL', 10)]\n"
     ]
    }
   ],
   "source": [
    "# List of given technologies\n",
    "given_tech = ['C', 'C#', 'C++', 'Java', 'JavaScript', 'Python', 'Scala', \n",
    "              'Oracle', 'SQL Server', 'MySQL Server', 'PostgreSQL', 'MongoDB']\n",
    "\n",
    "# Initialize dictionary to store counts\n",
    "given_tech_dict = {}\n",
    "\n",
    "# Loop through each job in my data\n",
    "for job in data:\n",
    "    skills = job.get('Key Skills', '')\n",
    "    for skill in skills.split('|'):           # Split the skills by '|', as it is a string of all skills per job posting at the moment\n",
    "        norm_skill = skill.strip()            # Remove spaces from skill, to normalize the data\n",
    "        if norm_skill in given_tech:          # Only count if skill is in given_tech list\n",
    "            # Increment count, initialize to 0 if not already in the dict\n",
    "            given_tech_dict[norm_skill] = given_tech_dict.get(norm_skill, 0) + 1\n",
    "\n",
    "# Print the results\n",
    "print(list(given_tech_dict.items()))\n",
    "\n",
    "\n",
    "\n",
    "\n",
    "#saving into a new worksheet\n",
    "ws2 = wb.create_sheet(title = 'Main Languages')\n",
    "ws2.append(['Skill', 'Job Count'])\n",
    "\n",
    "for skill, count in given_tech_dict.items(): #looping trough each key value pair and appending them to the columns in my worksheet 2. the method.items() is needed in order to be able to loops trough both keys and values. \n",
    "    ws2.append([skill, count])\n",
    "\n",
    "wb.save(\"jobs_per_skill.xlsx\")"
   ]
  },
  {
   "cell_type": "markdown",
   "metadata": {},
   "source": [
    "## Authors\n"
   ]
  },
  {
   "cell_type": "markdown",
   "metadata": {},
   "source": [
    "Ayushi Jain\n"
   ]
  },
  {
   "cell_type": "markdown",
   "metadata": {},
   "source": [
    "### Other Contributors\n"
   ]
  },
  {
   "cell_type": "markdown",
   "metadata": {},
   "source": [
    "Rav Ahuja\n",
    "\n",
    "Lakshmi Holla\n",
    "\n",
    "Malika\n"
   ]
  },
  {
   "cell_type": "markdown",
   "metadata": {},
   "source": [
    "Copyright © IBM Corporation.\n"
   ]
  },
  {
   "cell_type": "markdown",
   "metadata": {},
   "source": [
    "<!--## Change Log\n"
   ]
  },
  {
   "cell_type": "markdown",
   "metadata": {},
   "source": [
    "<!--| Date (YYYY-MM-DD) | Version | Changed By        | Change Description                 |\n",
    "| ----------------- | ------- | ----------------- | ---------------------------------- | \n",
    "| 2022-01-19        | 0.3     | Lakshmi Holla        | Added changes in the markdown      |\n",
    "| 2021-06-25        | 0.2     | Malika            | Updated GitHub job json link       |\n",
    "| 2020-10-17        | 0.1     | Ramesh Sannareddy | Created initial version of the lab |--!>\n"
   ]
  }
 ],
 "metadata": {
  "kernelspec": {
   "display_name": "Python",
   "language": "python",
   "name": "conda-env-python-py"
  },
  "language_info": {
   "codemirror_mode": {
    "name": "ipython",
    "version": 3
   },
   "file_extension": ".py",
   "mimetype": "text/x-python",
   "name": "python",
   "nbconvert_exporter": "python",
   "pygments_lexer": "ipython3",
   "version": "3.7.12"
  },
  "prev_pub_hash": "61a35a07ad98492b710274ae0e52a0fdce2221e88e366133dd4a20370680fa8f"
 },
 "nbformat": 4,
 "nbformat_minor": 4
}
